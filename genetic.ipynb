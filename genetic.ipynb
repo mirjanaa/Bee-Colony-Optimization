{
  "nbformat": 4,
  "nbformat_minor": 0,
  "metadata": {
    "colab": {
      "name": "genetic.ipynb",
      "provenance": [],
      "collapsed_sections": [],
      "toc_visible": true,
      "include_colab_link": true
    },
    "kernelspec": {
      "name": "python3",
      "display_name": "Python 3"
    },
    "language_info": {
      "name": "python"
    }
  },
  "cells": [
    {
      "cell_type": "markdown",
      "metadata": {
        "id": "view-in-github",
        "colab_type": "text"
      },
      "source": [
        "<a href=\"https://colab.research.google.com/github/mirjanaa/Bee-Colony-Optimization/blob/main/genetic.ipynb\" target=\"_parent\"><img src=\"https://colab.research.google.com/assets/colab-badge.svg\" alt=\"Open In Colab\"/></a>"
      ]
    },
    {
      "cell_type": "markdown",
      "source": [
        "# Genetic algorithm"
      ],
      "metadata": {
        "id": "mJz7LMhqA6h5"
      }
    },
    {
      "cell_type": "markdown",
      "metadata": {
        "id": "view-in-github"
      },
      "source": [
        "<a href=\"https://colab.research.google.com/github/mirjanaa/Bee-Colony-Optimization/blob/main/genetic.ipynb\" target=\"_parent\"><img src=\"https://colab.research.google.com/assets/colab-badge.svg\" alt=\"Open In Colab\"/></a>"
      ]
    },
    {
      "cell_type": "code",
      "source": [
        "import numpy as np\n",
        "import random\n",
        "import copy"
      ],
      "metadata": {
        "id": "YvLJtkrTKNSq"
      },
      "execution_count": 1,
      "outputs": []
    },
    {
      "cell_type": "code",
      "execution_count": 2,
      "metadata": {
        "id": "Tji_nqWEFhTN"
      },
      "outputs": [],
      "source": [
        "class Individual:\n",
        "\n",
        "  def __init__(self, bounds, obj_function, individual):\n",
        "    self.code = individual.position\n",
        "    self.obj_value = obj_function(self.code)\n",
        "    self.fitness = self.calc_fitness()\n",
        "\n",
        "  def __lt__(self, other):\n",
        "    return self.fitness < other.fitness\n",
        "\n",
        "\n",
        "  def calc_fitness(self):\n",
        "    return 1 / (1 + self.obj_value)\n"
      ]
    },
    {
      "cell_type": "code",
      "source": [
        "bounds = np.array([(-5.12, 5.12), (-5.12, 5.12)])"
      ],
      "metadata": {
        "id": "LgSBtzVMKypP"
      },
      "execution_count": 3,
      "outputs": []
    },
    {
      "cell_type": "code",
      "source": [
        "def rastrigin(x):\n",
        "    A = 10\n",
        "    n = len(x)\n",
        "    return A*n + sum(x_i**2 - A*np.cos(2*np.pi*x_i) for x_i in x)"
      ],
      "metadata": {
        "id": "z3jfW7CXFi5P"
      },
      "execution_count": 4,
      "outputs": []
    },
    {
      "cell_type": "code",
      "source": [
        "def selection(population, tournament_size):\n",
        "  TOURNAMENT_SIZE = tournament_size\n",
        "  bestFitness = float('-inf')\n",
        "  index = -1\n",
        "  for i in range(TOURNAMENT_SIZE):\n",
        "      randomIndividual = random.randrange(len(population))\n",
        "      if population[randomIndividual].fitness > bestFitness:\n",
        "          bestFitness = population[randomIndividual].fitness\n",
        "          index = randomIndividual\n",
        "  return index "
      ],
      "metadata": {
        "id": "OC4uMi0XO3Tx"
      },
      "execution_count": 5,
      "outputs": []
    },
    {
      "cell_type": "code",
      "source": [
        "def crossover(parent1, parent2, child1, child2):\n",
        "\n",
        "  for i in range(len(parent1.code)):\n",
        "    child1.code[i] = (parent1.code[i] + parent2.code[i]) / 2\n",
        "    if random.random() < 0.5:\n",
        "      child2.code[i] = parent1.code[i]\n",
        "    else:\n",
        "      child2.code[i] = parent2.code[i]\n",
        "\n",
        "  if child1.calc_fitness() < parent1.fitness and child1.calc_fitness() < parent2.fitness and child2.calc_fitness() < parent1.fitness and child2.calc_fitness() < parent2.fitness:\n",
        "    child1.code = parent1.code\n",
        "    child2.code = parent2.code\n"
      ],
      "metadata": {
        "id": "MkzVCs1iO3Ws"
      },
      "execution_count": 6,
      "outputs": []
    },
    {
      "cell_type": "code",
      "source": [
        "def mutation(individual):\n",
        "  MUTATION_PROB = 0.05\n",
        "  for i in range(len(individual.code)):\n",
        "      if random.random() < MUTATION_PROB:\n",
        "          individual.code[i] = random.uniform(bounds[i][0], bounds[i][1])"
      ],
      "metadata": {
        "id": "_WWbTXD0O3X5"
      },
      "execution_count": 7,
      "outputs": []
    },
    {
      "cell_type": "code",
      "source": [
        "def genetic_algorithm(population_size, generation_size, tournament_size, obj_function, initial_population):\n",
        "\n",
        "  POPULATION_SIZE = population_size\n",
        "  GENERATION_SIZE = generation_size\n",
        "  ELITISIM_SIZE = POPULATION_SIZE // 5\n",
        "  TOURNAMENT_SIZE = tournament_size\n",
        "\n",
        "  population = [Individual(bounds, obj_function, initial_population[i]) for i in range(POPULATION_SIZE)]\n",
        "  new_population = [Individual(bounds, obj_function, initial_population[i]) for i in range(POPULATION_SIZE)]\n",
        "\n",
        "  fitness_values = []\n",
        "  obj_values = []\n",
        "\n",
        "  for i in range(GENERATION_SIZE):\n",
        "    population.sort(reverse=True)\n",
        "    new_population[:ELITISIM_SIZE] = population[:ELITISIM_SIZE]\n",
        "\n",
        "    fitness_values.append(population[0].fitness)\n",
        "    obj_values.append(population[0].obj_value)\n",
        "\n",
        "    for j in range(ELITISIM_SIZE, POPULATION_SIZE, 2):\n",
        "      index_parent1 = selection(population, TOURNAMENT_SIZE)\n",
        "      index_parent2 = selection(population, TOURNAMENT_SIZE)\n",
        "\n",
        "      crossover(population[index_parent1], population[index_parent2], new_population[j], new_population[j+1])\n",
        "\n",
        "      mutation(new_population[j])\n",
        "      mutation(new_population[j+1])\n",
        "\n",
        "      new_population[j].fitness = new_population[j].calc_fitness()\n",
        "      new_population[j+1].fitness = new_population[j+1].calc_fitness()\n",
        "\n",
        "    population = new_population\n",
        "\n",
        "  best_individual = max(population) \n",
        "\n",
        "  print(\"Genetski algoritam: \")\n",
        "  print(f\"Best individual: {best_individual.code}, obj_value: {best_individual.obj_value}\")\n",
        "\n",
        "  return best_individual, obj_values, fitness_values\n",
        "\n",
        "\n",
        "\n",
        "\n"
      ],
      "metadata": {
        "id": "88GlO_W0Fi75"
      },
      "execution_count": 8,
      "outputs": []
    },
    {
      "cell_type": "markdown",
      "source": [
        "## ABC algorithm\n"
      ],
      "metadata": {
        "id": "lwBEhBodRafv"
      }
    },
    {
      "cell_type": "code",
      "source": [
        "import random\n",
        "import numpy as np\n",
        "from matplotlib import pyplot as plt\n",
        "\n",
        "\n",
        "\n",
        "\n",
        "class FoodSource:\n",
        "  def __init__(self, bounds, obj_function):\n",
        "    self.position = np.array([random.uniform(bound[0], bound[1]) for bound in bounds])\n",
        "    self.obj_value = obj_function(self.position)\n",
        "    self.fitness = self.calculate_fitness()\n",
        "    self.trial = 0\n",
        "    self.probability = 0\n",
        "\n",
        "\n",
        "  def __lt__(self, other):\n",
        "    return self.obj_value < other.obj_value\n",
        "\n",
        "  def __gt__(self, other):\n",
        "    return self.fitness > other.fitness\n",
        "\n",
        "  def calculate_fitness(self):\n",
        "    if self.obj_value >= 0:\n",
        "      return 1 / (1 + self.obj_value)\n",
        "    return 1 + abs(self.obj_value) \n",
        "    \n",
        "    \n",
        "bounds = np.array([(-5.12, 5.12), (-5.12, 5.12)])\n",
        "\n",
        "\n",
        "\n",
        "def generate_new_solution(i, population, lb, ub, obj_function):\n",
        "\n",
        "  j = random.randrange(len(bounds))\n",
        "  partner = random.randrange(len(population))\n",
        "\n",
        "  while i == partner:\n",
        "    partner = random.randrange(len(population))\n",
        "\n",
        "  phi = random.uniform(-1, 1)\n",
        "\n",
        "  old_fitness = population[i].fitness\n",
        "  old_objective_value = population[i].obj_value\n",
        "\n",
        "  old_j = population[i].position[j]\n",
        "  new_j = population[i].position[j] + phi * (population[i].position[j] - population[partner].position[j])\n",
        "\n",
        "  population[i].position[j] = new_j\n",
        "  population[i].position[j] = np.clip(population[i].position[j], lb[j], ub[j])\n",
        "  \n",
        "  new_objective_value = obj_function(population[i].position)\n",
        "   \n",
        "  population[i].obj_value = new_objective_value\n",
        "  population[i].fitness = population[i].calculate_fitness()\n",
        "\n",
        "  if population[i].fitness > old_fitness:\n",
        "    population[i].trial = 0\n",
        "  \n",
        "  else:\n",
        "    population[i].position[j] = old_j\n",
        "    population[i].obj_value = old_objective_value\n",
        "    population[i].fitness = old_fitness\n",
        "    population[i].trial = population[i].trial + 1 \n",
        "\n",
        "    \n",
        "    \n",
        "    \n",
        "def ABC_algorithm(population_size, num_of_iters, limit, obj_function):\n",
        "\n",
        "  POPULATION_SIZE = population_size\n",
        "  NUM_OF_ITERATIONS = num_of_iters\n",
        "  LIMIT = limit\n",
        "\n",
        "  lower_bound = np.array([x[0] for x in bounds])\n",
        "  upper_bound = np.array([x[1] for x in bounds])\n",
        "\n",
        "\n",
        "  population = [FoodSource(bounds, obj_function) for _ in range(POPULATION_SIZE)]\n",
        "  initial_population = copy.deepcopy(population)\n",
        "\n",
        "  best_solution = min(population)\n",
        "\n",
        "  obj_values = []\n",
        "  fitness_values = []\n",
        "\n",
        "  for k in range(NUM_OF_ITERATIONS):\n",
        "    #### Employed Bee Phase ####\n",
        "    for i in range(POPULATION_SIZE):\n",
        "      generate_new_solution(i, population, lower_bound, upper_bound, obj_function)\n",
        "\n",
        "    #### Onlooker Bee Phase ####\n",
        "    max_fitness = max([population[i].fitness for i in range(POPULATION_SIZE)])\n",
        "    for i in range(POPULATION_SIZE):\n",
        "      population[i].probability = 0.9 * (population[i].fitness / max_fitness) + 0.1\n",
        "\n",
        "\n",
        "    m = 0\n",
        "    n = 0\n",
        "\n",
        "    while m < POPULATION_SIZE and n < POPULATION_SIZE:\n",
        "      rand_value = random.uniform(0, 1)\n",
        "      if rand_value < population[n].probability:\n",
        "        generate_new_solution(n, population, lower_bound, upper_bound, obj_function)\n",
        "        m += 1\n",
        "      n = (n % POPULATION_SIZE) + 1\n",
        "\n",
        "    best_solution = min(min(population), best_solution)\n",
        "\n",
        "    #### Scout Bee Phase ####\n",
        "    max_index = -1\n",
        "    max_trial = float('-inf')\n",
        "    for index, p in enumerate(population):\n",
        "      if p.trial > max_trial:\n",
        "        max_trial = p.trial\n",
        "        max_index = index\n",
        "\n",
        "\n",
        "    if population[max_index].trial > LIMIT:\n",
        "      population[max_index] = FoodSource(bounds, obj_function)\n",
        "\n",
        "    best_solution = min(min(population), best_solution)\n",
        "\n",
        "    obj_values.append(best_solution.obj_value)\n",
        "    fitness_values.append(best_solution.fitness)\n",
        "\n",
        "  print(\"ABC algoritam: \")\n",
        "  print(\"position: \", [i for i in best_solution.position])\n",
        "  print(\"objective value: \", best_solution.obj_value)\n",
        "  print(\"fitness value: \", best_solution.fitness)\n",
        "\n",
        "  return best_solution, obj_values, fitness_values, initial_population\n",
        "    \n",
        "    \n",
        "    "
      ],
      "metadata": {
        "id": "x5wWKPGGFjEh"
      },
      "execution_count": 9,
      "outputs": []
    },
    {
      "cell_type": "markdown",
      "source": [
        "## Comparison between genetic and ABC algorithm"
      ],
      "metadata": {
        "id": "jNV8KZH3BKX8"
      }
    },
    {
      "cell_type": "code",
      "source": [
        "population_size = [10, 100, 1000]\n",
        "num_iters = [10, 100, 250]\n",
        "limit = [2, 5]\n",
        "\n",
        "tmp=5\n",
        "\n",
        "plt.figure(figsize=(10, 17))\n",
        "\n",
        "p = random.sample(population_size, k=1)[0]\n",
        "n = random.sample(num_iters, k=1)[0]\n",
        "l = random.sample(limit, k=1)[0]\n",
        "t = random.sample(range(10), k=1)[0]\n",
        "\n",
        "_, obj_values, fitness, initial_population = ABC_algorithm(p, n, l, rastrigin)\n",
        "plt.subplot(tmp, 2, 1)\n",
        "plt.plot(range(n), obj_values, color='green', marker='.')\n",
        "plt.xlabel(\"num of iters= \" + str(n))\n",
        "plt.ylabel(\"obj function value\")\n",
        "plt.title('ABC algoritam')\n",
        "\n",
        "_, obj_values, fitness = genetic_algorithm(p, n, t, rastrigin, initial_population)\n",
        "plt.subplot(tmp, 2, 2)\n",
        "plt.plot(range(n), obj_values, color='red', marker='.')\n",
        "plt.xlabel(\"num of iters= \" + str(n))\n",
        "plt.ylabel(\"obj function value\")\n",
        "plt.title('Genetic algorithm')\n",
        "\n",
        "for i in range(1, tmp):\n",
        "  p = random.sample(population_size, k=1)[0]\n",
        "  n = random.sample(num_iters, k=1)[0]\n",
        "  l = random.sample(limit, k=1)[0]\n",
        "\n",
        "  _, obj_values, fitness, initial_population = ABC_algorithm(p, n, l, rastrigin)\n",
        "  plt.subplot(tmp, 2, 2*i+1)\n",
        "  plt.plot(range(n), obj_values, color='green', marker='.')\n",
        "  plt.xlabel(\"num of iters= \" + str(n))\n",
        "  plt.ylabel(\"obj function value\")\n",
        "\n",
        "  best_solution, obj_values, fitness = genetic_algorithm(p, n, t, rastrigin, initial_population)\n",
        "  plt.subplot(tmp, 2, 2*i+2)\n",
        "  plt.plot(range(n), obj_values, color='red', marker='.')\n",
        "  plt.xlabel(\"num of iters= \" + str(n))\n",
        "  plt.ylabel(\"obj function value\")\n",
        "\n",
        "plt.show()"
      ],
      "metadata": {
        "id": "H4LMma-TFjHc",
        "colab": {
          "base_uri": "https://localhost:8080/",
          "height": 1000
        },
        "outputId": "1b2da376-ccb0-4d97-e1d1-282db7fae801"
      },
      "execution_count": 10,
      "outputs": [
        {
          "output_type": "stream",
          "name": "stdout",
          "text": [
            "ABC algoritam: \n",
            "position:  [0.053003870015766404, -0.0295750372788032]\n",
            "objective value:  0.7252920400831329\n",
            "fitness value:  0.5796120174250704\n",
            "Genetski algoritam: \n",
            "Best individual: [-0.41688177  1.1125427 ], obj_value: 20.131155323482716\n",
            "ABC algoritam: \n",
            "position:  [-1.1271451006588443e-09, -3.0471606744524555e-09]\n",
            "objective value:  0.0\n",
            "fitness value:  1.0\n",
            "Genetski algoritam: \n",
            "Best individual: [-0.8980579   0.36406574], obj_value: 2.7552215428758444\n",
            "ABC algoritam: \n",
            "position:  [1.344077503580648e-09, 1.3350030812815076e-09]\n",
            "objective value:  0.0\n",
            "fitness value:  1.0\n",
            "Genetski algoritam: \n",
            "Best individual: [-1.25751145 -2.28221621], obj_value: 1.2927712862502148\n",
            "ABC algoritam: \n",
            "position:  [4.4209957982531325e-11, -3.5389868694028235e-09]\n",
            "objective value:  0.0\n",
            "fitness value:  1.0\n",
            "Genetski algoritam: \n",
            "Best individual: [ 0.60709027 -0.60939814], obj_value: 1.1121106099288838\n",
            "ABC algoritam: \n",
            "position:  [-0.016533206506462894, 0.9204611578285963]\n",
            "objective value:  2.124441103871778\n",
            "fitness value:  0.3200572412009333\n",
            "Genetski algoritam: \n",
            "Best individual: [-1.55969395 -2.51085787], obj_value: 19.798105171451652\n"
          ]
        },
        {
          "output_type": "display_data",
          "data": {
            "text/plain": [
              "<Figure size 720x1224 with 10 Axes>"
            ],
            "image/png": "[encoded data removed]"
          },
          "metadata": {
            "needs_background": "light"
          }
        }
      ]
    }
  ]
}