{
  "nbformat": 4,
  "nbformat_minor": 0,
  "metadata": {
    "colab": {
      "name": "money_dynamic_programing.ipynb",
      "provenance": [],
      "collapsed_sections": [],
      "authorship_tag": "ABX9TyOYWYoM1Dp/eTK6ht9dPxb0",
      "include_colab_link": true
    },
    "kernelspec": {
      "name": "python3",
      "display_name": "Python 3"
    },
    "language_info": {
      "name": "python"
    }
  },
  "cells": [
    {
      "cell_type": "markdown",
      "metadata": {
        "id": "view-in-github",
        "colab_type": "text"
      },
      "source": [
        "<a href=\"https://colab.research.google.com/github/mirjanaa/Bee-Colony-Optimization/blob/main/money_dynamic_programing.ipynb\" target=\"_parent\"><img src=\"https://colab.research.google.com/assets/colab-badge.svg\" alt=\"Open In Colab\"/></a>"
      ]
    },
    {
      "cell_type": "code",
      "source": [
        "import numpy as np\n",
        "import random\n",
        "import math\n",
        "from matplotlib import pyplot as plt"
      ],
      "metadata": {
        "id": "JAiv-aF7uhEH"
      },
      "execution_count": 22,
      "outputs": []
    },
    {
      "cell_type": "code",
      "source": [
        "def dynamic_programing_algorithm(coins, target):\n",
        "  N = len(coins)\n",
        "  M = target\n",
        "\n",
        "  dp = [[0 for j in range(M+1)] for i in range(N+1)]\n",
        "\n",
        "  for target in range(1, M+1):\n",
        "    dp[0][target] = float('inf')\n",
        "  for n in range(1, N+1):\n",
        "    dp[n][0] = 0\n",
        "    for i in range(1, M+1):\n",
        "      dp[n][i] = dp[n-1][i]\n",
        "      if coins[n-1] <= i and dp[n-1][i-coins[n-1]] != float('inf'):\n",
        "        dp[n][i] = min(dp[n][i], 1 + dp[n-1][i-coins[n-1]])\n",
        "\n",
        "  indicator = False\n",
        "  for i in range(M, 0, -1):\n",
        "    if dp[N][i] != float('inf'):\n",
        "      indicator = True\n",
        "      return dp[N][i], i\n",
        "  \n",
        "  if not indicator:\n",
        "    print\n",
        "    return float('inf'), 0"
      ],
      "metadata": {
        "id": "6E8v-r7MtW4z"
      },
      "execution_count": 23,
      "outputs": []
    },
    {
      "cell_type": "code",
      "source": [
        "class FoodSource:\n",
        "  def __init__(self, bounds, obj_function, target, beta_parameter):\n",
        "    self.din_1 = random.randrange(bounds[0]+1)\n",
        "    self.din_2 = random.randrange(bounds[1]+1)\n",
        "    self.din_5 = random.randrange(bounds[2]+1)\n",
        "    self.din_10 = random.randrange(bounds[3]+1)\n",
        "    self.din_20 = random.randrange(bounds[4]+1)\n",
        "\n",
        "    self.position = np.array([self.din_1, self.din_2, self.din_5, self.din_10, self.din_20])\n",
        "    self.target = target\n",
        "    self.obj_value = obj_function(self.position, self.target, beta_parameter)\n",
        "    self.fitness = self.calculate_fitness()\n",
        "    self.trial = 0\n",
        "    self.probability = 0\n",
        "\n",
        "  def __lt__(self, other):\n",
        "    return self.obj_value < other.obj_value\n",
        "\n",
        "  def __gt__(self, other):\n",
        "    return self.fitness > other.fitness\n",
        "\n",
        "  def calculate_fitness(self):\n",
        "    if self.obj_value >= 0:\n",
        "      return 1 / (1 + self.obj_value)\n",
        "    return 1 + abs(self.obj_value)"
      ],
      "metadata": {
        "id": "DNIoRaUUTbWg"
      },
      "execution_count": 24,
      "outputs": []
    },
    {
      "cell_type": "code",
      "source": [
        "def obj_function(position, target, beta):\n",
        "  alpha = 1 #parametar tezine vrednosti blizine resenja\n",
        "  #beta = 1  #parametar tezine broja novcica\n",
        "\n",
        "  din_1 = position[0]\n",
        "  din_2 = position[1]\n",
        "  din_5 = position[2]\n",
        "  din_10 = position[3]\n",
        "  din_20 = position[4]\n",
        "\n",
        "  value = 1*din_1 + 2*din_2 + 5*din_5 + 10*din_10 + 20*din_20\n",
        "  count = din_1 + din_2 + din_5 + din_10 + din_20\n",
        "\n",
        "  return alpha*abs(target - value) + beta*(count)"
      ],
      "metadata": {
        "id": "e5S7eiq3ToXk"
      },
      "execution_count": 25,
      "outputs": []
    },
    {
      "cell_type": "code",
      "source": [
        "def generate_new_solution(i, population, bounds, option, beta_parameter):\n",
        "  j = random.randrange(len(bounds))\n",
        "  partner = random.randrange(len(population))\n",
        "\n",
        "  while i == partner:\n",
        "    partner = random.randrange(len(population))\n",
        "\n",
        "  old_fitness = population[i].fitness\n",
        "  old_objective_value = population[i].obj_value\n",
        "\n",
        "  old_j = population[i].position[j]\n",
        "  phi = random.randrange(0, 2) #random\n",
        "  if option == 'average':\n",
        "    new_j = math.floor((population[i].position[j] + population[partner].position[j]) / 2) + phi\n",
        "  elif option == 'max':\n",
        "    new_j = max(population[i].position[j], population[partner].position[j]) + phi\n",
        "\n",
        "  population[i].position[j] = new_j\n",
        "  population[i].position[j] = np.clip(population[i].position[j], 0, bounds[j])\n",
        "\n",
        "  new_objective_value = obj_function(population[i].position, population[i].target, beta_parameter)\n",
        "\n",
        "  population[i].obj_value = new_objective_value\n",
        "  population[i].fitness = population[i].calculate_fitness()\n",
        "\n",
        "  if population[i].fitness > old_fitness:\n",
        "    population[i].trial = 0\n",
        "  else:\n",
        "    population[i].position[j] = old_j\n",
        "    population[i].obj_value = old_objective_value\n",
        "    population[i].fitness = old_fitness\n",
        "    population[i].trial += 1"
      ],
      "metadata": {
        "id": "r3TLGzfZTvGB"
      },
      "execution_count": 26,
      "outputs": []
    },
    {
      "cell_type": "code",
      "source": [
        "def ABC_algorithm(population_size, num_of_iters, limit, obj_function, option, target, beta_parameter):\n",
        "\n",
        "  POPULATION_SIZE = population_size\n",
        "  NUM_OF_ITERATIONS = num_of_iters\n",
        "  LIMIT = limit\n",
        "\n",
        "  population = [FoodSource(bounds, obj_function, target, beta_parameter) for _ in range(POPULATION_SIZE)]\n",
        "\n",
        "  best_solution = min(population)\n",
        "\n",
        "  obj_values = []\n",
        "  fitness_values = []\n",
        "\n",
        "  for k in range(NUM_OF_ITERATIONS):\n",
        "    #### Employed Bee Phase ####\n",
        "    for i in range(POPULATION_SIZE):\n",
        "      generate_new_solution(i, population, bounds, option, beta_parameter)\n",
        "\n",
        "    #### Onlooker Bee Phase ####\n",
        "    max_fitness = max([population[i].fitness for i in range(POPULATION_SIZE)])\n",
        "    for i in range(POPULATION_SIZE):\n",
        "      population[i].probability = 0.9 * (population[i].fitness / max_fitness) + 0.1\n",
        "\n",
        "    m = 0\n",
        "    n = 0\n",
        "\n",
        "    while m < POPULATION_SIZE and n < POPULATION_SIZE:\n",
        "      rand_value = random.uniform(0, 1)\n",
        "      if rand_value < population[n].probability:\n",
        "        generate_new_solution(n, population, bounds, option, beta_parameter)\n",
        "        m += 1\n",
        "      n = (n % POPULATION_SIZE) + 1\n",
        "\n",
        "    best_solution = min(min(population), best_solution)\n",
        "\n",
        "    #### Scout Bee Phase ####\n",
        "    max_index = -1\n",
        "    max_trial = float('-inf')\n",
        "    for index, p in enumerate(population):\n",
        "      if p.trial > max_trial:\n",
        "        max_trial = p.trial\n",
        "        max_index = index\n",
        "\n",
        "\n",
        "    if population[max_index].trial > LIMIT:\n",
        "      population[max_index] = FoodSource(bounds, obj_function, target, beta_parameter)\n",
        "\n",
        "    best_solution = min(min(population), best_solution)\n",
        "\n",
        "    obj_values.append(best_solution.obj_value)\n",
        "    fitness_values.append(best_solution.fitness)\n",
        "\n",
        "  print(\"position: \", [i for i in best_solution.position])\n",
        "  print(\"objective value: \", best_solution.obj_value)\n",
        "  print(\"fitness value: \", best_solution.fitness)\n",
        "\n",
        "\n",
        "  return best_solution, obj_values, fitness_values"
      ],
      "metadata": {
        "id": "i9BxNT_WTyc7"
      },
      "execution_count": 27,
      "outputs": []
    },
    {
      "cell_type": "code",
      "source": [
        "bounds = [0, 51000, 0, 0, 0]\n",
        "best_solution, _, _ = ABC_algorithm(500, 1000, 5, obj_function, 'max', 100000, 1)"
      ],
      "metadata": {
        "id": "RcGVRBF9usNR",
        "outputId": "6ba26aa6-dd8f-4157-e6ad-43c0021bbb02",
        "colab": {
          "base_uri": "https://localhost:8080/"
        }
      },
      "execution_count": 28,
      "outputs": [
        {
          "output_type": "stream",
          "name": "stdout",
          "text": [
            "position:  [0, 50000, 0, 0, 0]\n",
            "objective value:  50000\n",
            "fitness value:  1.999960000799984e-05\n"
          ]
        }
      ]
    },
    {
      "cell_type": "code",
      "source": [
        "bounds = [0, 51000, 0, 0, 0]\n",
        "values = [1, 2, 5, 10, 20] \n",
        "target = 100000\n",
        "coins = []\n",
        "\n",
        "for i in range(len(bounds)):\n",
        "  for j in range(bounds[i]):\n",
        "    coins.append(values[i])\n",
        "\n",
        "dynamic_programing_algorithm(coins, target)"
      ],
      "metadata": {
        "id": "TTf3raBPT0EM"
      },
      "execution_count": null,
      "outputs": []
    }
  ]
}