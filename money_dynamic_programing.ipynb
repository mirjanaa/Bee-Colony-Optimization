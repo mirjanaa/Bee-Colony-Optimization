{
  "nbformat": 4,
  "nbformat_minor": 0,
  "metadata": {
    "colab": {
      "name": "money_dynamic_programing.ipynb",
      "provenance": [],
      "collapsed_sections": [],
      "authorship_tag": "ABX9TyOxJKvtRdMCM8+Bt0zsYNVP",
      "include_colab_link": true
    },
    "kernelspec": {
      "name": "python3",
      "display_name": "Python 3"
    },
    "language_info": {
      "name": "python"
    }
  },
  "cells": [
    {
      "cell_type": "markdown",
      "metadata": {
        "id": "view-in-github",
        "colab_type": "text"
      },
      "source": [
        "<a href=\"https://colab.research.google.com/github/mirjanaa/Bee-Colony-Optimization/blob/main/money_dynamic_programing.ipynb\" target=\"_parent\"><img src=\"https://colab.research.google.com/assets/colab-badge.svg\" alt=\"Open In Colab\"/></a>"
      ]
    },
    {
      "cell_type": "code",
      "source": [
        "import random\n",
        "\n",
        "bounds = [5, 10, 5, 15, 2]\n",
        "\n",
        "din_1 = random.randrange(bounds[0])\n",
        "din_2 = random.randrange(bounds[1])\n",
        "din_5 = random.randrange(bounds[2])\n",
        "din_10 = random.randrange(bounds[3])\n",
        "din_20 = random.randrange(bounds[4])\n",
        "\n",
        "target = 75\n",
        "maximum_coins = [din_1, din_2, din_5, din_10, din_20]\n",
        "values = [1, 2, 5, 10, 20] \n",
        "coins = []\n",
        "\n",
        "for i in range(len(maximum_coins)):\n",
        "  for j in range(maximum_coins[i]):\n",
        "    coins.append(values[i])\n",
        "\n",
        "def dynamic_programing_algorithm(coins, target):\n",
        "  N = len(coins)\n",
        "  M = target\n",
        "\n",
        "  dp = [[0 for j in range(M+1)] for i in range(N+1)]\n",
        "\n",
        "  for target in range(1, M+1):\n",
        "    dp[0][target] = float('inf')\n",
        "  for n in range(1, N+1):\n",
        "    dp[n][0] = 0\n",
        "    for i in range(1, M+1):\n",
        "      dp[n][i] = dp[n-1][i]\n",
        "      if coins[n-1] <= i and dp[n-1][i-coins[n-1]] != float('inf'):\n",
        "        dp[n][i] = min(dp[n][i], 1 + dp[n-1][i-coins[n-1]])\n",
        "\n",
        "  return dp[N][M]"
      ],
      "metadata": {
        "id": "6E8v-r7MtW4z"
      },
      "execution_count": 1,
      "outputs": []
    },
    {
      "cell_type": "code",
      "source": [
        "n = dynamic_programing_algorithm(coins, target)\n",
        "print(n)"
      ],
      "metadata": {
        "colab": {
          "base_uri": "https://localhost:8080/"
        },
        "id": "l0hPhBucf02_",
        "outputId": "3999a306-8b5b-4f99-b21d-e15e52cc1e70"
      },
      "execution_count": 2,
      "outputs": [
        {
          "output_type": "stream",
          "name": "stdout",
          "text": [
            "inf\n"
          ]
        }
      ]
    }
  ]
}