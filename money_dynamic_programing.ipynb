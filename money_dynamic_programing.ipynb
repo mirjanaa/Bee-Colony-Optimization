{
  "nbformat": 4,
  "nbformat_minor": 0,
  "metadata": {
    "colab": {
      "name": "money_dynamic_programing.ipynb",
      "provenance": [],
      "collapsed_sections": [],
      "authorship_tag": "ABX9TyPWoerueyfPr90gim7uAKPE",
      "include_colab_link": true
    },
    "kernelspec": {
      "name": "python3",
      "display_name": "Python 3"
    },
    "language_info": {
      "name": "python"
    }
  },
  "cells": [
    {
      "cell_type": "markdown",
      "metadata": {
        "id": "view-in-github",
        "colab_type": "text"
      },
      "source": [
        "<a href=\"https://colab.research.google.com/github/mirjanaa/Bee-Colony-Optimization/blob/main/money_dynamic_programing.ipynb\" target=\"_parent\"><img src=\"https://colab.research.google.com/assets/colab-badge.svg\" alt=\"Open In Colab\"/></a>"
      ]
    },
    {
      "cell_type": "code",
      "source": [
        "import random\n",
        "import time\n",
        "import math\n",
        "import numpy as np"
      ],
      "metadata": {
        "id": "JAiv-aF7uhEH"
      },
      "execution_count": 1,
      "outputs": []
    },
    {
      "cell_type": "markdown",
      "source": [
        "## Dynamic algorithm for minimum coin change problem"
      ],
      "metadata": {
        "id": "Q6I0XC5OWTKL"
      }
    },
    {
      "cell_type": "code",
      "source": [
        "def dynamic_programing_algorithm(coins, target):\n",
        "  N = len(coins)\n",
        "  M = target\n",
        "\n",
        "  dp = [[0 for j in range(M+1)] for i in range(N+1)]\n",
        "\n",
        "  for target in range(1, M+1):\n",
        "    dp[0][target] = float('inf')\n",
        "  for n in range(1, N+1):\n",
        "    dp[n][0] = 0\n",
        "    for i in range(1, M+1):\n",
        "      dp[n][i] = dp[n-1][i]\n",
        "      if coins[n-1] <= i and dp[n-1][i-coins[n-1]] != float('inf'):\n",
        "        dp[n][i] = min(dp[n][i], 1 + dp[n-1][i-coins[n-1]])\n",
        "\n",
        "  indicator = False\n",
        "  for i in range(M, 0, -1):\n",
        "    if dp[N][i] != float('inf'):\n",
        "      indicator = True\n",
        "      print(\"num of coins: \", dp[N][i])\n",
        "      print(\"found sum: \", i)\n",
        "      return\n",
        "  \n",
        "  if not indicator:\n",
        "    print(\"num of coins: \", \"inf\")\n",
        "    print(\"found sum: \", 0)\n",
        "    return"
      ],
      "metadata": {
        "id": "6E8v-r7MtW4z"
      },
      "execution_count": 2,
      "outputs": []
    },
    {
      "cell_type": "markdown",
      "source": [
        "## ABC algorithm for minimum coin change problem"
      ],
      "metadata": {
        "id": "XuSlW2QvWcIr"
      }
    },
    {
      "cell_type": "code",
      "source": [
        "class FoodSource:\n",
        "  def __init__(self, bounds, obj_function, target, beta_parameter, values):\n",
        "    self.din_1 = random.randrange(bounds[0]+1)\n",
        "    self.din_2 = random.randrange(bounds[1]+1)\n",
        "    self.din_5 = random.randrange(bounds[2]+1)\n",
        "    self.din_10 = random.randrange(bounds[3]+1)\n",
        "    self.din_20 = random.randrange(bounds[4]+1)\n",
        "\n",
        "    self.position = np.array([self.din_1, self.din_2, self.din_5, self.din_10, self.din_20])\n",
        "    self.target = target\n",
        "    self.obj_value = obj_function(self.position, self.target, beta_parameter, values)\n",
        "    self.fitness = self.calculate_fitness()\n",
        "    self.trial = 0\n",
        "    self.probability = 0\n",
        "\n",
        "  def __lt__(self, other):\n",
        "    return self.obj_value < other.obj_value\n",
        "\n",
        "  def __gt__(self, other):\n",
        "    return self.fitness > other.fitness\n",
        "\n",
        "  def calculate_fitness(self):\n",
        "    if self.obj_value >= 0:\n",
        "      return 1 / (1 + self.obj_value)\n",
        "    return 1 + abs(self.obj_value)"
      ],
      "metadata": {
        "id": "DNIoRaUUTbWg"
      },
      "execution_count": 3,
      "outputs": []
    },
    {
      "cell_type": "code",
      "source": [
        "def obj_function(position, target, beta, values):\n",
        "  alpha = 1\n",
        "\n",
        "  din_1 = position[0]\n",
        "  din_2 = position[1]\n",
        "  din_5 = position[2]\n",
        "  din_10 = position[3]\n",
        "  din_20 = position[4]\n",
        "\n",
        "  value = values[0]*din_1 + values[1]*din_2 + values[2]*din_5 + values[3]*din_10 + values[4]*din_20\n",
        "  count = din_1 + din_2 + din_5 + din_10 + din_20\n",
        "\n",
        "  return alpha*abs(target - value) + beta*(count)"
      ],
      "metadata": {
        "id": "e5S7eiq3ToXk"
      },
      "execution_count": 4,
      "outputs": []
    },
    {
      "cell_type": "code",
      "source": [
        "def generate_new_solution(i, population, bounds, option, beta_parameter, values):\n",
        "  j = random.randrange(len(bounds))\n",
        "  partner = random.randrange(len(population))\n",
        "\n",
        "  while i == partner:\n",
        "    partner = random.randrange(len(population))\n",
        "\n",
        "  old_fitness = population[i].fitness\n",
        "  old_objective_value = population[i].obj_value\n",
        "\n",
        "  old_j = population[i].position[j]\n",
        "  phi = random.randrange(0, 2)\n",
        "  if option == 'average':\n",
        "    new_j = math.floor((population[i].position[j] + population[partner].position[j]) / 2) + phi\n",
        "  elif option == 'max':\n",
        "    new_j = max(population[i].position[j], population[partner].position[j]) + phi\n",
        "\n",
        "  population[i].position[j] = new_j\n",
        "  population[i].position[j] = np.clip(population[i].position[j], 0, bounds[j])\n",
        "\n",
        "  new_objective_value = obj_function(population[i].position, population[i].target, beta_parameter, values)\n",
        "\n",
        "  population[i].obj_value = new_objective_value\n",
        "  population[i].fitness = population[i].calculate_fitness()\n",
        "\n",
        "  if population[i].fitness > old_fitness:\n",
        "    population[i].trial = 0\n",
        "  else:\n",
        "    population[i].position[j] = old_j\n",
        "    population[i].obj_value = old_objective_value\n",
        "    population[i].fitness = old_fitness\n",
        "    population[i].trial += 1"
      ],
      "metadata": {
        "id": "r3TLGzfZTvGB"
      },
      "execution_count": 5,
      "outputs": []
    },
    {
      "cell_type": "code",
      "source": [
        "def ABC_algorithm(population_size, num_of_iters, limit, obj_function, option, target, beta_parameter, bounds, values):\n",
        "\n",
        "  POPULATION_SIZE = population_size\n",
        "  NUM_OF_ITERATIONS = num_of_iters\n",
        "  LIMIT = limit\n",
        "\n",
        "  population = [FoodSource(bounds, obj_function, target, beta_parameter, values) for _ in range(POPULATION_SIZE)]\n",
        "\n",
        "  best_solution = min(population)\n",
        "\n",
        "  obj_values = []\n",
        "  fitness_values = []\n",
        "\n",
        "  for k in range(NUM_OF_ITERATIONS):\n",
        "    #### Employed Bee Phase ####\n",
        "    for i in range(POPULATION_SIZE):\n",
        "      generate_new_solution(i, population, bounds, option, beta_parameter, values)\n",
        "\n",
        "    #### Onlooker Bee Phase ####\n",
        "    max_fitness = max([population[i].fitness for i in range(POPULATION_SIZE)])\n",
        "    for i in range(POPULATION_SIZE):\n",
        "      population[i].probability = 0.9 * (population[i].fitness / max_fitness) + 0.1\n",
        "\n",
        "    m = 0\n",
        "    n = 0\n",
        "\n",
        "    while m < POPULATION_SIZE and n < POPULATION_SIZE:\n",
        "      rand_value = random.uniform(0, 1)\n",
        "      if rand_value < population[n].probability:\n",
        "        generate_new_solution(n, population, bounds, option, beta_parameter, values)\n",
        "        m += 1\n",
        "      n = (n % POPULATION_SIZE) + 1\n",
        "\n",
        "    best_solution = min(min(population), best_solution)\n",
        "\n",
        "    #### Scout Bee Phase ####\n",
        "    max_index = -1\n",
        "    max_trial = float('-inf')\n",
        "    for index, p in enumerate(population):\n",
        "      if p.trial > max_trial:\n",
        "        max_trial = p.trial\n",
        "        max_index = index\n",
        "\n",
        "\n",
        "    if population[max_index].trial > LIMIT:\n",
        "      population[max_index] = FoodSource(bounds, obj_function, target, beta_parameter, values)\n",
        "\n",
        "    best_solution = min(min(population), best_solution)\n",
        "\n",
        "    obj_values.append(best_solution.obj_value)\n",
        "    fitness_values.append(best_solution.fitness)\n",
        "\n",
        "  print(\"position: \", [i for i in best_solution.position])\n",
        "  print(\"objective value: \", best_solution.obj_value)\n",
        "  print(\"fitness value: \", best_solution.fitness)\n",
        "\n",
        "\n",
        "  return best_solution, obj_values, fitness_values"
      ],
      "metadata": {
        "id": "i9BxNT_WTyc7"
      },
      "execution_count": 6,
      "outputs": []
    },
    {
      "cell_type": "markdown",
      "source": [
        "## Comparison of execution time of abc and dynamic algorithm on an easy example"
      ],
      "metadata": {
        "id": "XnPjAFLoZaDN"
      }
    },
    {
      "cell_type": "code",
      "source": [
        "bounds = [5, 10, 5, 15, 2]\n",
        "values = [1, 2, 5, 10, 20]\n",
        "target = 75"
      ],
      "metadata": {
        "id": "cmu2CTa6bxzz"
      },
      "execution_count": 7,
      "outputs": []
    },
    {
      "cell_type": "code",
      "source": [
        "start_abc = time.time()\n",
        "_, _, _ = ABC_algorithm(500, 1000, 5, obj_function, 'max', target, 1, bounds, values)\n",
        "end_abc = time.time()\n",
        "\n",
        "time_of_execution_abc = end_abc - start_abc"
      ],
      "metadata": {
        "id": "GRtO73sbbSlP",
        "outputId": "8ce8ac5d-bc90-40af-e804-7e0a18e5a821",
        "colab": {
          "base_uri": "https://localhost:8080/"
        }
      },
      "execution_count": 8,
      "outputs": [
        {
          "output_type": "stream",
          "name": "stdout",
          "text": [
            "position:  [0, 0, 5, 1, 2]\n",
            "objective value:  8\n",
            "fitness value:  0.1111111111111111\n"
          ]
        }
      ]
    },
    {
      "cell_type": "code",
      "source": [
        "coins = []\n",
        "for i in range(len(bounds)):\n",
        "  for j in range(bounds[i]):\n",
        "    coins.append(values[i])\n",
        "\n",
        "start_dynamic = time.time()\n",
        "dynamic_programing_algorithm(coins, target)\n",
        "end_dynamic = time.time()\n",
        "\n",
        "time_of_execution_dynamic = end_dynamic - start_dynamic"
      ],
      "metadata": {
        "id": "YSSLYUmLbvop",
        "outputId": "20f82dcd-db90-42ad-f13f-4bff97f1210c",
        "colab": {
          "base_uri": "https://localhost:8080/"
        }
      },
      "execution_count": 9,
      "outputs": [
        {
          "output_type": "stream",
          "name": "stdout",
          "text": [
            "num of coins:  6\n",
            "found sum:  75\n"
          ]
        }
      ]
    },
    {
      "cell_type": "code",
      "source": [
        "print(\"Execution time of the acb algorithm: \", round(time_of_execution_abc, 3), \"sec\")\n",
        "print(\"Execution time of the dynamic algorithm: \", round(time_of_execution_dynamic, 3), \"sec\")"
      ],
      "metadata": {
        "id": "v63rHmokeWHl",
        "outputId": "9b931719-31aa-4b2f-d034-cc2073351ba5",
        "colab": {
          "base_uri": "https://localhost:8080/"
        }
      },
      "execution_count": 10,
      "outputs": [
        {
          "output_type": "stream",
          "name": "stdout",
          "text": [
            "Execution time of the acb algorithm:  21.7 sec\n",
            "Execution time of the dynamic algorithm:  0.005 sec\n"
          ]
        }
      ]
    },
    {
      "cell_type": "markdown",
      "source": [
        "## Comparison of execution time of abc and dynamic algorithm on a difficult example"
      ],
      "metadata": {
        "id": "yVa6E6eyZida"
      }
    },
    {
      "cell_type": "code",
      "source": [
        "bounds = [0, 26000, 0, 0, 0]\n",
        "values = [1, 2, 5, 10, 20]\n",
        "target = 50000"
      ],
      "metadata": {
        "id": "WsWY9jCzhhte"
      },
      "execution_count": 11,
      "outputs": []
    },
    {
      "cell_type": "code",
      "source": [
        "start_abc = time.time()\n",
        "_, _, _ = ABC_algorithm(500, 1000, 5, obj_function, 'max', target, 1, bounds, values)\n",
        "end_abc = time.time()\n",
        "\n",
        "time_of_execution_abc = end_abc - start_abc"
      ],
      "metadata": {
        "id": "iXn-8w1DhrSj",
        "outputId": "2e2d3a73-c7d4-4507-ae35-893e012a7a1e",
        "colab": {
          "base_uri": "https://localhost:8080/"
        }
      },
      "execution_count": 12,
      "outputs": [
        {
          "output_type": "stream",
          "name": "stdout",
          "text": [
            "position:  [0, 25000, 0, 0, 0]\n",
            "objective value:  25000\n",
            "fitness value:  3.999840006399744e-05\n"
          ]
        }
      ]
    },
    {
      "cell_type": "code",
      "source": [
        "coins = []\n",
        "for i in range(len(bounds)):\n",
        "  for j in range(bounds[i]):\n",
        "    coins.append(values[i])\n",
        "\n",
        "start_dynamic = time.time()\n",
        "dynamic_programing_algorithm(coins, target)\n",
        "end_dynamic = time.time()\n",
        "\n",
        "time_of_execution_dynamic = end_dynamic - start_dynamic"
      ],
      "metadata": {
        "id": "Q_I3GDBCht1S",
        "outputId": "58de704c-366f-4ac0-8431-272e6234c5ef",
        "colab": {
          "base_uri": "https://localhost:8080/"
        }
      },
      "execution_count": 13,
      "outputs": [
        {
          "output_type": "stream",
          "name": "stdout",
          "text": [
            "num of coins:  25000\n",
            "found sum:  50000\n"
          ]
        }
      ]
    },
    {
      "cell_type": "code",
      "source": [
        "print(\"Execution time of the acb algorithm: \", round(time_of_execution_abc, 3), \"sec\")\n",
        "print(\"Execution time of the dynamic algorithm: \", round(time_of_execution_dynamic, 3), \"sec\")"
      ],
      "metadata": {
        "id": "sPg9ATzYhy7_",
        "outputId": "69869ca3-af4a-4232-a7d2-37c1bea0c1e2",
        "colab": {
          "base_uri": "https://localhost:8080/"
        }
      },
      "execution_count": 14,
      "outputs": [
        {
          "output_type": "stream",
          "name": "stdout",
          "text": [
            "Execution time of the acb algorithm:  29.276 sec\n",
            "Execution time of the dynamic algorithm:  1201.933 sec\n"
          ]
        }
      ]
    }
  ]
}