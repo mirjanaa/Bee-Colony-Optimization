{
  "nbformat": 4,
  "nbformat_minor": 0,
  "metadata": {
    "colab": {
      "name": "money.ipynb",
      "provenance": [],
      "authorship_tag": "ABX9TyNot0srbUfCOzxefiDkBLp8",
      "include_colab_link": true
    },
    "kernelspec": {
      "name": "python3",
      "display_name": "Python 3"
    },
    "language_info": {
      "name": "python"
    }
  },
  "cells": [
    {
      "cell_type": "markdown",
      "metadata": {
        "id": "view-in-github",
        "colab_type": "text"
      },
      "source": [
        "<a href=\"https://colab.research.google.com/github/mirjanaa/Bee-Colony-Optimization/blob/main/money.ipynb\" target=\"_parent\"><img src=\"https://colab.research.google.com/assets/colab-badge.svg\" alt=\"Open In Colab\"/></a>"
      ]
    },
    {
      "cell_type": "code",
      "execution_count": 68,
      "metadata": {
        "id": "vStOa_0Nqlh-"
      },
      "outputs": [],
      "source": [
        "import numpy as np\n",
        "import random"
      ]
    },
    {
      "cell_type": "code",
      "source": [
        "class FoodSource:\n",
        "\n",
        "  def __init__(self, bounds, obj_function, target):\n",
        "    self.din_1 = random.randint(0, bounds[0])\n",
        "    self.din_2 = random.randint(0, bounds[1])\n",
        "    self.din_5 = random.randint(0, bounds[2])\n",
        "    self.din_10 = random.randint(0, bounds[3])\n",
        "    self.din_20 = random.randint(0, bounds[4])\n",
        "\n",
        "    self.position = np.array([self.din_1, self.din_2, self.din_5, self.din_10, self.din_20]) #necemo ovako? Brisi ako ne treba\n",
        "    self.target = target\n",
        "    self.obj_value = obj_function(self.din_1, self.din_2, self.din_5, self.din_10, self.din_20, self.target)\n",
        "    self.fitness = self.calc_fitness()\n",
        "    self.trial = 0\n",
        "    self.probability = 0\n",
        "\n",
        "  def __lt__(self, other):\n",
        "    return self.obj_value < other.obj_value\n",
        "\n",
        "  def __gt__(self, other):\n",
        "    return self.fitness > other.fitness\n",
        "\n",
        "\n",
        "  def calc_fitness(self):\n",
        "    if self.obj_value >= 0:\n",
        "      return 1 / (1 + self.obj_value)\n",
        "    return 1 + abs(self.obj_value)\n",
        "    \n",
        "\n",
        "\n"
      ],
      "metadata": {
        "id": "7pnzS2bXqo-x"
      },
      "execution_count": 69,
      "outputs": []
    },
    {
      "cell_type": "code",
      "source": [
        "def obj_function(din_1, din_2, din_5, din_10, din_20, target):\n",
        "  alpha = 1 #parametar tezine vrednosti blizine resenja\n",
        "  beta = 1  #parametar tezine broja novcica\n",
        "\n",
        "  value = 1*din_1 + 2*din_2 + 5*din_5 + 10*din_10 + 20*din_20\n",
        "  count = din_1 + din_2 + din_5 + din_10 + din_20\n",
        "\n",
        "  return alpha*abs(target - value) + beta*(count)\n"
      ],
      "metadata": {
        "id": "OF0SxHl3qpoT"
      },
      "execution_count": 70,
      "outputs": []
    },
    {
      "cell_type": "code",
      "source": [
        "bounds = np.array([5, 10, 5, 15, 2])\n"
      ],
      "metadata": {
        "id": "fpMxaZptqp9b"
      },
      "execution_count": 71,
      "outputs": []
    },
    {
      "cell_type": "code",
      "source": [
        "def generate_new_solution():\n",
        "  pass"
      ],
      "metadata": {
        "id": "i17iw5WxqqX7"
      },
      "execution_count": 72,
      "outputs": []
    },
    {
      "cell_type": "code",
      "source": [
        "POPULATION_SIZE = 50\n",
        "NUM_OF_ITERATIONS = 100\n",
        "LIMIT = 5\n",
        "target = 100\n",
        "\n",
        "\n",
        "population = [FoodSource(bounds, obj_function, target) for _ in range(POPULATION_SIZE)]\n",
        "\n",
        "best_solution = min(population)\n",
        "\n",
        "for k in range(NUM_OF_ITERATIONS):\n",
        "  #### Employed Bee Phase ####\n",
        "  for i in range(POPULATION_SIZE):\n",
        "    generate_new_solution()\n",
        "\n",
        "  #### Onlooker Bee Phase ####\n",
        "  max_fitness = max([population[i].fitness for i in range(POPULATION_SIZE)])\n",
        "  for i in range(POPULATION_SIZE):\n",
        "    population[i].probability = 0.9 * (population[i].fitness / max_fitness) + 0.1\n",
        "\n",
        "\n",
        "  m = 0\n",
        "  n = 0\n",
        "\n",
        "  while m < POPULATION_SIZE and n < POPULATION_SIZE:\n",
        "    rand_value = random.uniform(0, 1)\n",
        "    if rand_value < population[n].probability:\n",
        "      generate_new_solution()\n",
        "      m += 1\n",
        "    n = (n % POPULATION_SIZE) + 1\n",
        "\n",
        "  best_solution = min(min(population), best_solution)\n",
        "\n",
        "  #### Scout Bee Phase ####\n",
        "  max_index = -1\n",
        "  max_trial = float('-inf')\n",
        "  for index, p in enumerate(population):\n",
        "    if p.trial > max_trial:\n",
        "      max_trial = p.trial\n",
        "      max_index = index\n",
        "\n",
        "\n",
        "  if population[max_index].trial > LIMIT:\n",
        "    population[max_index] = FoodSource(bounds, obj_function, target)\n",
        "\n",
        "  best_solution = min(min(population), best_solution)\n",
        "\n",
        "\n",
        "print(\"position: \", [i for i in best_solution.position])\n",
        "print(\"objective value: \", best_solution.obj_value)\n",
        "print(\"fitness value: \", best_solution.fitness)"
      ],
      "metadata": {
        "colab": {
          "base_uri": "https://localhost:8080/"
        },
        "id": "6t49LrVnqqrL",
        "outputId": "9ba8e8f6-1ac3-4cbd-a218-707ca931c7cd"
      },
      "execution_count": 73,
      "outputs": [
        {
          "output_type": "stream",
          "name": "stdout",
          "text": [
            "position:  [1, 4, 3, 7, 0]\n",
            "objective value:  21\n",
            "fitness value:  0.045454545454545456\n"
          ]
        }
      ]
    }
  ]
}