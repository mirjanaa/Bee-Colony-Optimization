{
  "nbformat": 4,
  "nbformat_minor": 0,
  "metadata": {
    "colab": {
      "name": "money.ipynb",
      "provenance": [],
      "include_colab_link": true
    },
    "kernelspec": {
      "name": "python3",
      "display_name": "Python 3"
    },
    "language_info": {
      "name": "python"
    }
  },
  "cells": [
    {
      "cell_type": "markdown",
      "metadata": {
        "id": "view-in-github",
        "colab_type": "text"
      },
      "source": [
        "<a href=\"https://colab.research.google.com/github/mirjanaa/Bee-Colony-Optimization/blob/main/money.ipynb\" target=\"_parent\"><img src=\"https://colab.research.google.com/assets/colab-badge.svg\" alt=\"Open In Colab\"/></a>"
      ]
    },
    {
      "cell_type": "code",
      "execution_count": 108,
      "metadata": {
        "id": "vStOa_0Nqlh-"
      },
      "outputs": [],
      "source": [
        "import numpy as np\n",
        "import random\n",
        "import math\n",
        "from matplotlib import pyplot as plt"
      ]
    },
    {
      "cell_type": "code",
      "source": [
        "class FoodSource:\n",
        "  def __init__(self, bounds, obj_function, target):\n",
        "    self.din_1 = random.randrange(bounds[0])\n",
        "    self.din_2 = random.randrange(bounds[1])\n",
        "    self.din_5 = random.randrange(bounds[2])\n",
        "    self.din_10 = random.randrange(bounds[3])\n",
        "    self.din_20 = random.randrange(bounds[4])\n",
        "\n",
        "    self.position = np.array([self.din_1, self.din_2, self.din_5, self.din_10, self.din_20])\n",
        "    self.target = target\n",
        "    self.obj_value = obj_function(self.position, self.target)\n",
        "    self.fitness = self.calculate_fitness()\n",
        "    self.trial = 0\n",
        "    self.probability = 0\n",
        "\n",
        "  def __lt__(self, other):\n",
        "    return self.obj_value < other.obj_value\n",
        "\n",
        "  def __gt__(self, other):\n",
        "    return self.fitness > other.fitness\n",
        "\n",
        "  def calculate_fitness(self):\n",
        "    if self.obj_value >= 0:\n",
        "      return 1 / (1 + self.obj_value)\n",
        "    return 1 + abs(self.obj_value)"
      ],
      "metadata": {
        "id": "7pnzS2bXqo-x"
      },
      "execution_count": 109,
      "outputs": []
    },
    {
      "cell_type": "code",
      "source": [
        "def obj_function(position, target):\n",
        "  alpha = 1 #parametar tezine vrednosti blizine resenja\n",
        "  beta = 1  #parametar tezine broja novcica\n",
        "\n",
        "  din_1 = position[0]\n",
        "  din_2 = position[1]\n",
        "  din_5 = position[2]\n",
        "  din_10 = position[3]\n",
        "  din_20 = position[4]\n",
        "\n",
        "  value = 1*din_1 + 2*din_2 + 5*din_5 + 10*din_10 + 20*din_20\n",
        "  count = din_1 + din_2 + din_5 + din_10 + din_20\n",
        "\n",
        "  return alpha*abs(target - value) + beta*(count)"
      ],
      "metadata": {
        "id": "OF0SxHl3qpoT"
      },
      "execution_count": 110,
      "outputs": []
    },
    {
      "cell_type": "code",
      "source": [
        "bounds = np.array([5, 10, 5, 15, 2])"
      ],
      "metadata": {
        "id": "fpMxaZptqp9b"
      },
      "execution_count": 111,
      "outputs": []
    },
    {
      "cell_type": "code",
      "source": [
        "def generate_new_solution(i, population, bounds, option):\n",
        "  j = random.randrange(len(bounds))\n",
        "  partner = random.randrange(len(population))\n",
        "\n",
        "  while i == partner:\n",
        "    partner = random.randrange(len(population))\n",
        "\n",
        "  old_fitness = population[i].fitness\n",
        "  old_objective_value = population[i].obj_value\n",
        "\n",
        "  old_j = population[i].position[j]\n",
        "  phi = random.randrange(0, 2) # 0 ili 1, tj ili dodam 1 ili oduzmem 1, nekao kao vrsta randomizacije\n",
        "  if option == 'average':\n",
        "    new_j = math.floor((population[i].position[j] + population[partner].position[j]) / 2) + phi\n",
        "  elif option == 'max':\n",
        "    new_j = max(population[i].position[j], population[partner].position[j]) + phi\n",
        "\n",
        "  population[i].position[j] = new_j\n",
        "  population[i].position[j] = np.clip(population[i].position[j], 0, bounds[j])\n",
        "\n",
        "  new_objective_value = obj_function(population[i].position, population[i].target)\n",
        "\n",
        "  population[i].obj_value = new_objective_value\n",
        "  population[i].fitness = population[i].calculate_fitness()\n",
        "\n",
        "  if population[i].fitness > old_fitness:\n",
        "    population[i].trial = 0\n",
        "  else:\n",
        "    population[i].position[j] = old_j\n",
        "    population[i].obj_value = old_objective_value\n",
        "    population[i].fitness = old_fitness\n",
        "    population[i].trial += 1"
      ],
      "metadata": {
        "id": "i17iw5WxqqX7"
      },
      "execution_count": 112,
      "outputs": []
    },
    {
      "cell_type": "code",
      "source": [
        "POPULATION_SIZE = 10\n",
        "NUM_OF_ITERATIONS = 20\n",
        "LIMIT = 5\n",
        "target = 137\n",
        "\n",
        "population = [FoodSource(bounds, obj_function, target) for _ in range(POPULATION_SIZE)]\n",
        "\n",
        "best_solution = min(population)\n",
        "\n",
        "obj_values = []\n",
        "fitness_values = []\n",
        "\n",
        "for k in range(NUM_OF_ITERATIONS):\n",
        "  #### Employed Bee Phase ####\n",
        "  for i in range(POPULATION_SIZE):\n",
        "    generate_new_solution(i, population, bounds, 'max')\n",
        "\n",
        "  #### Onlooker Bee Phase ####\n",
        "  max_fitness = max([population[i].fitness for i in range(POPULATION_SIZE)])\n",
        "  for i in range(POPULATION_SIZE):\n",
        "    population[i].probability = 0.9 * (population[i].fitness / max_fitness) + 0.1\n",
        "\n",
        "  m = 0\n",
        "  n = 0\n",
        "\n",
        "  while m < POPULATION_SIZE and n < POPULATION_SIZE:\n",
        "    rand_value = random.uniform(0, 1)\n",
        "    if rand_value < population[n].probability:\n",
        "      generate_new_solution(n, population, bounds, 'max')\n",
        "      m += 1\n",
        "    n = (n % POPULATION_SIZE) + 1\n",
        "\n",
        "  best_solution = min(min(population), best_solution)\n",
        "\n",
        "  #### Scout Bee Phase ####\n",
        "  max_index = -1\n",
        "  max_trial = float('-inf')\n",
        "  for index, p in enumerate(population):\n",
        "    if p.trial > max_trial:\n",
        "      max_trial = p.trial\n",
        "      max_index = index\n",
        "\n",
        "\n",
        "  if population[max_index].trial > LIMIT:\n",
        "    population[max_index] = FoodSource(bounds, obj_function, target)\n",
        "\n",
        "  best_solution = min(min(population), best_solution)\n",
        "\n",
        "  obj_values.append(best_solution.obj_value)\n",
        "  print\n",
        "  fitness_values.append(best_solution.fitness)\n",
        "\n",
        "print(\"position: \", [i for i in best_solution.position])\n",
        "print(\"objective value: \", best_solution.obj_value)\n",
        "print(\"fitness value: \", best_solution.fitness)"
      ],
      "metadata": {
        "colab": {
          "base_uri": "https://localhost:8080/"
        },
        "id": "6t49LrVnqqrL",
        "outputId": "42e398db-e3db-4d97-d11d-1f9d11867e0d"
      },
      "execution_count": 120,
      "outputs": [
        {
          "output_type": "stream",
          "name": "stdout",
          "text": [
            "position:  [1, 6, 1, 10, 1]\n",
            "objective value:  20\n",
            "fitness value:  0.047619047619047616\n"
          ]
        }
      ]
    },
    {
      "cell_type": "code",
      "source": [
        "plt.plot(range(NUM_OF_ITERATIONS), obj_values)"
      ],
      "metadata": {
        "id": "KqCaGQY6fbg_",
        "outputId": "527cd18a-3650-4668-eb70-18526375294a",
        "colab": {
          "base_uri": "https://localhost:8080/",
          "height": 282
        }
      },
      "execution_count": 122,
      "outputs": [
        {
          "output_type": "execute_result",
          "data": {
            "text/plain": [
              "[<matplotlib.lines.Line2D at 0x7f86a9cfb0d0>]"
            ]
          },
          "metadata": {},
          "execution_count": 122
        },
        {
          "output_type": "display_data",
          "data": {
            "text/plain": [
              "<Figure size 432x288 with 1 Axes>"
            ],
            "image/png": "[encoded data removed]"
          },
          "metadata": {
            "needs_background": "light"
          }
        }
      ]
    },
    {
      "cell_type": "code",
      "source": [
        "plt.plot(range(NUM_OF_ITERATIONS), fitness_values)"
      ],
      "metadata": {
        "id": "gNccrzfZfzxa",
        "outputId": "d86959c6-f8cb-4cd7-a1d6-8bf7f6eff520",
        "colab": {
          "base_uri": "https://localhost:8080/",
          "height": 286
        }
      },
      "execution_count": 123,
      "outputs": [
        {
          "output_type": "execute_result",
          "data": {
            "text/plain": [
              "[<matplotlib.lines.Line2D at 0x7f86a9c66d90>]"
            ]
          },
          "metadata": {},
          "execution_count": 123
        },
        {
          "output_type": "display_data",
          "data": {
            "text/plain": [
              "<Figure size 432x288 with 1 Axes>"
            ],
            "image/png": "[encoded data removed]"
          },
          "metadata": {
            "needs_background": "light"
          }
        }
      ]
    }
  ]
}