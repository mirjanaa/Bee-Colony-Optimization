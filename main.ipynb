{
  "nbformat": 4,
  "nbformat_minor": 0,
  "metadata": {
    "colab": {
      "name": "main.ipynb",
      "provenance": [],
      "collapsed_sections": [],
      "include_colab_link": true
    },
    "kernelspec": {
      "name": "python3",
      "display_name": "Python 3"
    },
    "language_info": {
      "name": "python"
    }
  },
  "cells": [
    {
      "cell_type": "markdown",
      "metadata": {
        "id": "view-in-github",
        "colab_type": "text"
      },
      "source": [
        "<a href=\"https://colab.research.google.com/github/mirjanaa/Bee-Colony-Optimization/blob/main/main.ipynb\" target=\"_parent\"><img src=\"https://colab.research.google.com/assets/colab-badge.svg\" alt=\"Open In Colab\"/></a>"
      ]
    },
    {
      "cell_type": "code",
      "source": [
        "import random\n",
        "import numpy as np"
      ],
      "metadata": {
        "id": "qu-JwL5scBy1"
      },
      "execution_count": 1,
      "outputs": []
    },
    {
      "cell_type": "code",
      "execution_count": 2,
      "metadata": {
        "id": "zMcOiscK8qg-"
      },
      "outputs": [],
      "source": [
        "class FoodSource:\n",
        "  def __init__(self, bounds, obj_function):\n",
        "    self.position = np.array([random.uniform(bound[0], bound[1]) for bound in bounds])\n",
        "    self.obj_value = obj_function(self.position)\n",
        "    self.fitness = self.calculate_fitness()\n",
        "    self.trial = 0\n",
        "    self.probability = 0\n",
        "\n",
        "  def __lt__(self, other):\n",
        "    return self.obj_value < other.obj_value\n",
        "\n",
        "  def __gt__(self, other):\n",
        "    return self.fitness > other.fitness\n",
        "\n",
        "  def calculate_fitness(self):\n",
        "    if self.obj_value >= 0:\n",
        "      return 1 / (1 + self.obj_value)\n",
        "    return 1 + abs(self.obj_value) "
      ]
    },
    {
      "cell_type": "code",
      "source": [
        "def rastrigin(x):\n",
        "    A = 10\n",
        "    n = len(x)\n",
        "    return A*n + sum(x_i**2 - A*np.cos(2*np.pi*x_i) for x_i in x)\n",
        "    #return x[0]**2 + x[1]**2"
      ],
      "metadata": {
        "id": "Pkxo4wVpeM3k"
      },
      "execution_count": 3,
      "outputs": []
    },
    {
      "cell_type": "code",
      "source": [
        "def rosenbrock(x):\n",
        "    a = 1\n",
        "    b = 100\n",
        "    return (a - x[0]) ** 2 + b * (x[1] - x[0]**2)**2"
      ],
      "metadata": {
        "id": "Wcdg3FpNesa0"
      },
      "execution_count": 4,
      "outputs": []
    },
    {
      "cell_type": "code",
      "source": [
        "bounds = np.array([(-5.12, 5.12), (-5.12, 5.12)])"
      ],
      "metadata": {
        "id": "pzslEgaTfnGM"
      },
      "execution_count": 5,
      "outputs": []
    },
    {
      "cell_type": "code",
      "source": [
        "def generate_new_solution(i, population, lb, ub, obj_function):\n",
        "\n",
        "  j = random.randrange(len(bounds))\n",
        "  #print(\"j = \", j)\n",
        "  partner = random.randrange(len(population))\n",
        "  #print(\"partner = \", partner)\n",
        "\n",
        "  while i == partner:\n",
        "    partner = random.randrange(len(population))\n",
        "\n",
        "  phi = random.uniform(-1, 1)\n",
        "\n",
        "  old_fitness = population[i].fitness\n",
        "  old_objective_value = population[i].obj_value\n",
        "\n",
        "  old_j = population[i].position[j]\n",
        "  new_j = population[i].position[j] + phi * (population[i].position[j] - population[partner].position[j])\n",
        "\n",
        "  #print(\"New_j ---> \", new_j)\n",
        "  population[i].position[j] = new_j\n",
        "  population[i].position[j] = np.clip(population[i].position[j], lb[j], ub[j])\n",
        "\n",
        "  print(old_j, population[i].position[j])  \n",
        "\n",
        "  new_objective_value = obj_function(population[i].position)\n",
        "   \n",
        "  population[i].obj_value = new_objective_value\n",
        "  population[i].fitness = population[i].calculate_fitness()\n",
        "\n",
        "  #print(f\"old_fitness = ${old_fitness}, new_fitness = ${new_fitness}\")\n",
        "  #print(f\"old_j = ${old_j}, new_j = ${new_j}\")\n",
        "\n",
        "  if population[i].fitness > old_fitness:\n",
        "    print(\"Poboljsano resenje\")\n",
        "    population[i].trial = 0\n",
        "  \n",
        "  else:\n",
        "    population[i].position[j] = old_j\n",
        "    population[i].obj_value = old_objective_value\n",
        "    population[i].fitness = old_fitness\n",
        "    population[i].trial = population[i].trial + 1 \n",
        "\n",
        "  "
      ],
      "metadata": {
        "id": "2SNXo1ksg66L"
      },
      "execution_count": 6,
      "outputs": []
    },
    {
      "cell_type": "code",
      "source": [
        "POPULATION_SIZE = 50\n",
        "NUM_OF_ITERATIONS = 100\n",
        "LIMIT = 5\n",
        "\n",
        "lower_bound = np.array([x[0] for x in bounds])\n",
        "upper_bound = np.array([x[1] for x in bounds])\n",
        "\n",
        "\n",
        "population = [FoodSource(bounds, rastrigin) for _ in range(POPULATION_SIZE)]\n",
        "\n",
        "best_solution = min(population)\n",
        "\n",
        "for k in range(NUM_OF_ITERATIONS):\n",
        "  #### Employed Bee Phase ####\n",
        "  for i in range(POPULATION_SIZE):\n",
        "    generate_new_solution(i, population, lower_bound, upper_bound, rastrigin)\n",
        "\n",
        "  #### Onlooker Bee Phase ####\n",
        "  max_fitness = max([population[i].fitness for i in range(POPULATION_SIZE)])\n",
        "  for i in range(POPULATION_SIZE):\n",
        "    population[i].probability = 0.9 * (population[i].fitness / max_fitness) + 0.1\n",
        "\n",
        "\n",
        "  m = 0\n",
        "  n = 0\n",
        "\n",
        "  while m < POPULATION_SIZE and n < POPULATION_SIZE:\n",
        "    rand_value = random.uniform(0, 1)\n",
        "    if rand_value < population[n].probability:\n",
        "      generate_new_solution(n, population, lower_bound, upper_bound, rastrigin)\n",
        "      m += 1\n",
        "    n = (n % POPULATION_SIZE) + 1\n",
        "\n",
        "  best_solution = min(min(population), best_solution)\n",
        "\n",
        "  #### Scout Bee Phase ####\n",
        "  max_index = -1\n",
        "  max_trial = float('-inf')\n",
        "  for index, p in enumerate(population):\n",
        "    if p.trial > max_trial:\n",
        "      max_trial = p.trial\n",
        "      max_index = index\n",
        "\n",
        "\n",
        "  if population[max_index].trial > LIMIT:\n",
        "    population[max_index] = FoodSource(bounds, rastrigin)\n",
        "\n",
        "  best_solution = min(min(population), best_solution)\n",
        "\n",
        "\n",
        "print(\"position: \", [i for i in best_solution.position])\n",
        "print(\"objective value: \", best_solution.obj_value)\n",
        "print(\"fitness value: \", best_solution.fitness)"
      ],
      "metadata": {
        "id": "pnPIo12prsr3"
      },
      "execution_count": null,
      "outputs": []
    }
  ]
}