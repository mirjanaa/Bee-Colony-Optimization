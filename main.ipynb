{
  "nbformat": 4,
  "nbformat_minor": 0,
  "metadata": {
    "colab": {
      "name": "main.ipynb",
      "provenance": [],
      "collapsed_sections": []
    },
    "kernelspec": {
      "name": "python3",
      "display_name": "Python 3"
    },
    "language_info": {
      "name": "python"
    }
  },
  "cells": [
    {
      "cell_type": "code",
      "source": [
        "import random\n",
        "import numpy as np"
      ],
      "metadata": {
        "id": "qu-JwL5scBy1"
      },
      "execution_count": 35,
      "outputs": []
    },
    {
      "cell_type": "code",
      "execution_count": 36,
      "metadata": {
        "id": "zMcOiscK8qg-"
      },
      "outputs": [],
      "source": [
        "class FoodSource:\n",
        "  def __init__(self, bounds, obj_function):\n",
        "    self.position = [random.uniform(bound[0], bound[1]) for bound in bounds]\n",
        "    self.obj_value = obj_function(self.position)\n",
        "    self.fitness_value = self.calculate_fitness()\n",
        "    self.trial = 0\n",
        "    self.probability = 0\n",
        "\n",
        "  def __lt__(self, other):\n",
        "    return self.obj_value < other.obj_value\n",
        "\n",
        "  def calculate_fitness(self):\n",
        "    pass"
      ]
    },
    {
      "cell_type": "code",
      "source": [
        "def rastrigin(x):\n",
        "    A = 10\n",
        "    n = len(x)\n",
        "    return A*n + sum(x_i**2 - A*np.cos(2*np.pi*x_i) for x_i in x)"
      ],
      "metadata": {
        "id": "Pkxo4wVpeM3k"
      },
      "execution_count": 37,
      "outputs": []
    },
    {
      "cell_type": "code",
      "source": [
        "def rosenbrock(x):\n",
        "    a = 1\n",
        "    b = 100\n",
        "    return (a - x[0]) ** 2 + b * (x[1] - x[0]**2)**2"
      ],
      "metadata": {
        "id": "Wcdg3FpNesa0"
      },
      "execution_count": 38,
      "outputs": []
    },
    {
      "cell_type": "code",
      "source": [
        "bounds = [(-5.12, 5.12), (-5.12, 5.12)]"
      ],
      "metadata": {
        "id": "pzslEgaTfnGM"
      },
      "execution_count": 39,
      "outputs": []
    },
    {
      "cell_type": "code",
      "source": [
        "def generate_new_solution(i, population):\n",
        "  pass"
      ],
      "metadata": {
        "id": "2SNXo1ksg66L"
      },
      "execution_count": 40,
      "outputs": []
    },
    {
      "cell_type": "code",
      "source": [
        "POPULATION_SIZE = 3\n",
        "NUM_OF_ITERATIONS = 3\n",
        "LIMIT = 5\n",
        "\n",
        "population = [FoodSource(bounds, rastrigin) for _ in range(POPULATION_SIZE)]\n",
        "\n",
        "best_solution = min(population)\n",
        "\n",
        "for k in range(NUM_OF_ITERATIONS):\n",
        "  print(k)\n",
        "  #### Employed Bee Phase ####\n",
        "  for i in range(POPULATION_SIZE):\n",
        "    generate_new_solution(i, population)\n",
        "\n",
        "  #### Onlooker Bee Phase ####\n",
        "  max_fitness = max([population[i].fitness_value for I in range(POPULATION_SIZE)])\n",
        "  for _ in range(POPULATION_SIZE):\n",
        "    population[i].probability = 0.9 * (population[i].fitness_value/max_fitness) + 0.1\n",
        "\n",
        "  m = 0\n",
        "  n = 0\n",
        "\n",
        "  while m < POPULATION_SIZE:\n",
        "    rand_value = random.uniform(0, 1)\n",
        "    if rand_value < population[n].probability:\n",
        "      generate_new_solution(n, population)\n",
        "      m += 1\n",
        "    n = n % POPULATION_SIZE\n",
        "\n",
        "  best_solution = min(min(population), best_solution) # da li je ovako???\n",
        "\n",
        "  #### Scout Bee Phase ####\n",
        "  max_value_index = np.argmax(population)\n",
        "  if population[max_value_index] > LIMIT:\n",
        "    population[max_value_index] = FoodSource(bounds, rastrigin)\n",
        "\n",
        "  best_solution = min(min(population), best_solution) # da li je ovako???\n",
        "\n",
        "print(\"position: \", best_solution.position[0], best_solution.position[1])\n",
        "print(\"objective value: \", best_solution.obj_value)\n",
        "print(\"fitness value: \", best_solution.fitness_value)"
      ],
      "metadata": {
        "id": "pnPIo12prsr3"
      },
      "execution_count": null,
      "outputs": []
    }
  ]
}